{
 "cells": [
  {
   "cell_type": "markdown",
   "id": "30ec9441",
   "metadata": {},
   "source": [
    "Question - 1"
   ]
  },
  {
   "cell_type": "code",
   "execution_count": 22,
   "id": "9d6b18e3",
   "metadata": {},
   "outputs": [],
   "source": [
    "def writeIntoFile(file, write):\n",
    "    with open (file, 'a') as file:\n",
    "        file.write(write)\n",
    "\n",
    "write = 'Good work!!'\n",
    "writeIntoFile('C:\\\\Users\\\\Malay kumar purohit\\\\OneDrive\\\\Desktop\\\\EDA Tutorial\\\\assignment.txt', write)"
   ]
  },
  {
   "cell_type": "markdown",
   "id": "94b33297",
   "metadata": {},
   "source": [
    "Question - 2"
   ]
  },
  {
   "cell_type": "code",
   "execution_count": 23,
   "id": "07a8f5ea",
   "metadata": {},
   "outputs": [
    {
     "name": "stdout",
     "output_type": "stream",
     "text": [
      "Good work!!Good work!!Good work!!\n",
      "\n",
      "Good work!!Good work!!Good work!!\n",
      "\n",
      "Good work!!Good work!!Good work!!\n"
     ]
    }
   ],
   "source": [
    "def readFile(file):\n",
    "    with open (file, 'r') as file:\n",
    "        for file in file:\n",
    "            print(file, end = '\\n')\n",
    "readFile('C:\\\\Users\\\\Malay kumar purohit\\\\OneDrive\\\\Desktop\\\\EDA Tutorial\\\\assignment.txt')"
   ]
  },
  {
   "cell_type": "markdown",
   "id": "6fdd2132",
   "metadata": {},
   "source": [
    "Question - 3"
   ]
  },
  {
   "cell_type": "code",
   "execution_count": 26,
   "id": "dbebf085",
   "metadata": {},
   "outputs": [
    {
     "name": "stdout",
     "output_type": "stream",
     "text": [
      "Error: File 'C:\\Users\\Malay kumar purohit\\OneDrive\\Desktop\\EDA Tutorial\\assignmennt.txt' not found.\n"
     ]
    }
   ],
   "source": [
    "import os\n",
    "def read_and_print_file():\n",
    "  \"\"\"\n",
    "  Reads the contents of the file and prints each line.\n",
    "  \"\"\"\n",
    "  try:\n",
    "    with open(file_path, 'r') as file:\n",
    "      for line in file:\n",
    "        print(line.strip())  # Remove trailing newline characters\n",
    "  except FileNotFoundError:\n",
    "    print(f\"Error: File '{file_path}' not found.\")\n",
    "file_path = \"C:\\\\Users\\\\Malay kumar purohit\\\\OneDrive\\\\Desktop\\\\EDA Tutorial\\\\assignmennt.txt\"\n",
    "read_and_print_file()\n"
   ]
  },
  {
   "cell_type": "markdown",
   "id": "e8d3683e",
   "metadata": {},
   "source": [
    "Question - 4"
   ]
  },
  {
   "cell_type": "code",
   "execution_count": 31,
   "id": "d09f9001",
   "metadata": {},
   "outputs": [],
   "source": [
    "def write(string, file2):\n",
    "    with open (file2, 'a') as file:\n",
    "        file.write(string)\n",
    "\n",
    "def read(file1, file2):\n",
    "    with open (file1, 'r') as file:\n",
    "        for file in file:\n",
    "            write(file, file2)\n",
    "read(\"C:\\\\Users\\\\Malay kumar purohit\\\\OneDrive\\\\Desktop\\\\EDA Tutorial\\\\assignment.txt\", \"C:\\\\Users\\\\Malay kumar purohit\\\\OneDrive\\\\Desktop\\\\EDA Tutorial\\\\assignment2.txt\")"
   ]
  },
  {
   "cell_type": "markdown",
   "id": "db63c7cf",
   "metadata": {},
   "source": [
    "Question - 5"
   ]
  },
  {
   "cell_type": "code",
   "execution_count": 32,
   "id": "aa40c538",
   "metadata": {},
   "outputs": [
    {
     "name": "stdout",
     "output_type": "stream",
     "text": [
      "division by 0 is failed\n"
     ]
    }
   ],
   "source": [
    "def division(number):\n",
    "    try:\n",
    "        print(number / 0)\n",
    "    except ZeroDivisionError as z:\n",
    "        print('division by 0 is failed')\n",
    "division(3)"
   ]
  },
  {
   "cell_type": "markdown",
   "id": "d46d91b2",
   "metadata": {},
   "source": [
    "QUESTION - 6"
   ]
  },
  {
   "cell_type": "code",
   "execution_count": 2,
   "id": "5c13cf25",
   "metadata": {},
   "outputs": [
    {
     "name": "stderr",
     "output_type": "stream",
     "text": [
      "ERROR:root:Division by 0 failed\n"
     ]
    }
   ],
   "source": [
    "import logging\n",
    "def division(number):\n",
    "    try:\n",
    "        print(number / 0)\n",
    "    except ZeroDivisionError as z:\n",
    "        logging.error('Division by 0 failed')\n",
    "division(3)"
   ]
  },
  {
   "cell_type": "markdown",
   "id": "7fbfb2c4",
   "metadata": {},
   "source": [
    "QUESTION - 7"
   ]
  },
  {
   "cell_type": "code",
   "execution_count": 7,
   "id": "e22a5068",
   "metadata": {},
   "outputs": [
    {
     "name": "stderr",
     "output_type": "stream",
     "text": [
      "WARNING:root:Enter a positive number for the numerator.\n"
     ]
    },
    {
     "name": "stdout",
     "output_type": "stream",
     "text": [
      "Enter numerator: 21\n",
      "Enter denominator: 3\n",
      "The result of the division is: 7.0\n"
     ]
    }
   ],
   "source": [
    "import logging\n",
    "\n",
    "def division():\n",
    "\n",
    "    logging.warning('Enter a positive number for the numerator.')\n",
    "\n",
    "    try:\n",
    "        numerator = int(input('Enter numerator: '))\n",
    "        if numerator < 0:\n",
    "            raise ValueError('The numerator must be a positive number.')\n",
    "\n",
    "        denominator = int(input('Enter denominator: '))\n",
    "\n",
    "        result = numerator / denominator\n",
    "        logging.info(f'Successfully divided {numerator} by {denominator}.')\n",
    "        return result\n",
    "\n",
    "    except ZeroDivisionError as e:\n",
    "        logging.error('Division by zero attempted.', exc_info=True)\n",
    "        print(\"Error: Cannot divide by zero.\")\n",
    "        return None\n",
    "\n",
    "    except ValueError as e:\n",
    "        logging.error('Invalid input: Negative numerator.', exc_info=True)\n",
    "        print(f\"Error: {e}\")\n",
    "        return None\n",
    "\n",
    "result = division()\n",
    "\n",
    "if result is not None:\n",
    "    print(f\"The result of the division is: {result}\")"
   ]
  },
  {
   "cell_type": "markdown",
   "id": "60096314",
   "metadata": {},
   "source": [
    "QUESTION - 8"
   ]
  },
  {
   "cell_type": "code",
   "execution_count": 8,
   "id": "a0a3b0c0",
   "metadata": {},
   "outputs": [
    {
     "name": "stderr",
     "output_type": "stream",
     "text": [
      "ERROR:root:File not found error.\n"
     ]
    }
   ],
   "source": [
    "try:\n",
    "    with open('my_file.txt', 'r') as file:\n",
    "        data = file.read()\n",
    "        print(data)\n",
    "\n",
    "except FileNotFoundError:\n",
    "    logging.error('File not found error.')\n",
    "\n",
    "except Exception as e:\n",
    "    logging.error(f'{e.message}')"
   ]
  },
  {
   "cell_type": "markdown",
   "id": "1a062ac7",
   "metadata": {},
   "source": [
    "QUESTION - 9"
   ]
  },
  {
   "cell_type": "code",
   "execution_count": 9,
   "id": "343451c5",
   "metadata": {},
   "outputs": [
    {
     "name": "stdout",
     "output_type": "stream",
     "text": [
      "['Good work!!Good work!!Good work!!', 'Good work!!Good work!!Good work!!', 'Good work!!Good work!!Good work!!']\n"
     ]
    }
   ],
   "source": [
    "def read_file_into_list(filename):\n",
    "  \"\"\"\n",
    "  Reads a file line by line and stores its content in a list.\n",
    "\n",
    "  Args:\n",
    "    filename: The name of the file to read.\n",
    "\n",
    "  Returns:\n",
    "    A list containing each line of the file as a string.\n",
    "  \"\"\"\n",
    "  with open(filename, 'r') as file:\n",
    "    lines = file.readlines()\n",
    "  return [line.strip() for line in lines]\n",
    "\n",
    "# Example usage\n",
    "file_content = read_file_into_list('C:\\\\Users\\\\Malay kumar purohit\\\\OneDrive\\\\Desktop\\\\EDA Tutorial\\\\assignment.txt')\n",
    "print(file_content)"
   ]
  },
  {
   "cell_type": "markdown",
   "id": "38616aec",
   "metadata": {},
   "source": [
    "QUESTION - 10"
   ]
  },
  {
   "cell_type": "code",
   "execution_count": 10,
   "id": "d64b1e14",
   "metadata": {},
   "outputs": [],
   "source": [
    "def file_operation():\n",
    "    with open ('C:\\\\Users\\\\Malay kumar purohit\\\\OneDrive\\\\Desktop\\\\EDA Tutorial\\\\assignment.txt', 'a') as file:\n",
    "        file.write('Doing assignment')\n",
    "file_operation()"
   ]
  },
  {
   "cell_type": "markdown",
   "id": "79a67929",
   "metadata": {},
   "source": [
    "QUESTION - 11"
   ]
  },
  {
   "cell_type": "code",
   "execution_count": 11,
   "id": "3abae81e",
   "metadata": {},
   "outputs": [],
   "source": [
    "dictionary = {\n",
    "    \n",
    "}\n",
    "dictionary['a'] = 1\n",
    "dictionary['b'] = 2\n",
    "dictionary['c'] = 3"
   ]
  },
  {
   "cell_type": "code",
   "execution_count": 14,
   "id": "8f6ad6d4",
   "metadata": {},
   "outputs": [
    {
     "name": "stdout",
     "output_type": "stream",
     "text": [
      "y\n"
     ]
    },
    {
     "name": "stderr",
     "output_type": "stream",
     "text": [
      "ERROR:root:value is not present\n"
     ]
    }
   ],
   "source": [
    "try:\n",
    "    n = input()\n",
    "    if n not in dictionary:\n",
    "        raise ValueError('value is not present')\n",
    "except ValueError as v:\n",
    "    logging.error(f'{v}')"
   ]
  },
  {
   "cell_type": "markdown",
   "id": "aa6fddc3",
   "metadata": {},
   "source": [
    "QUESTION - 12"
   ]
  },
  {
   "cell_type": "code",
   "execution_count": 15,
   "id": "4c8e6d21",
   "metadata": {},
   "outputs": [
    {
     "name": "stdout",
     "output_type": "stream",
     "text": [
      "Error: Division by zero.\n"
     ]
    }
   ],
   "source": [
    "def divide_numbers(a, b):\n",
    "  try:\n",
    "    result = a / b\n",
    "    return result\n",
    "  except ZeroDivisionError:\n",
    "    print(\"Error: Division by zero.\")\n",
    "    return None\n",
    "  except TypeError:\n",
    "    print(\"Error: Invalid input types. Please provide numbers.\")\n",
    "    return None\n",
    "  except Exception as e:\n",
    "    print(f\"An unexpected error occurred: {e}\")\n",
    "    return None\n",
    "\n",
    "# Example usage\n",
    "num1 = 10\n",
    "num2 = 0\n",
    "\n",
    "result = divide_numbers(num1, num2)"
   ]
  },
  {
   "cell_type": "markdown",
   "id": "99499dc8",
   "metadata": {},
   "source": [
    "QUESTION - 13"
   ]
  },
  {
   "cell_type": "code",
   "execution_count": 18,
   "id": "e0a6d1f6",
   "metadata": {},
   "outputs": [],
   "source": [
    "import os\n",
    "import logging"
   ]
  },
  {
   "cell_type": "code",
   "execution_count": 32,
   "id": "22ffb1d7",
   "metadata": {},
   "outputs": [
    {
     "name": "stderr",
     "output_type": "stream",
     "text": [
      "ERROR:root:the file does not exists\n"
     ]
    }
   ],
   "source": [
    "def file_exists(filename):\n",
    "    if os.path.isfile(filename):\n",
    "        logging.info('the file exists')\n",
    "        return True\n",
    "\n",
    "filename = 'C:\\\\Users\\\\Malay kumar purohit\\\\OneDrive\\\\Desktop\\\\EDA Tutorial\\\\assignment1.txt'\n",
    "\n",
    "logging.basicConfig(filename='my_log.log', level=logging.INFO, format='%(asctime)s - %(levelname)s - %(message)s')\n",
    "\n",
    "if file_exists(filename):\n",
    "    print(\"file exists\")\n",
    "else:\n",
    "    logging.error('the file does not exists')\n"
   ]
  },
  {
   "cell_type": "markdown",
   "id": "c44c568b",
   "metadata": {},
   "source": [
    "QUESTION - 14"
   ]
  },
  {
   "cell_type": "code",
   "execution_count": 33,
   "id": "126632b3",
   "metadata": {},
   "outputs": [
    {
     "name": "stdout",
     "output_type": "stream",
     "text": [
      "Result: 10.0\n"
     ]
    }
   ],
   "source": [
    "import logging\n",
    "\n",
    "def my_function():\n",
    "  logging.info(\"Starting function execution.\")\n",
    "\n",
    "  try:\n",
    "    # Simulate a potential error\n",
    "    result = 10 / 1 \n",
    "  except ZeroDivisionError as e:\n",
    "    logging.error(f\"An error occurred: {e}\")\n",
    "    return None \n",
    "\n",
    "  logging.info(\"Function execution completed successfully.\")\n",
    "  return result\n",
    "\n",
    "if __name__ == \"__main__\":\n",
    "  # Configure logging\n",
    "  logging.basicConfig(filename='my_log.log', level=logging.INFO, \n",
    "                      format='%(asctime)s - %(levelname)s - %(message)s')\n",
    "\n",
    "  result = my_function()\n",
    "\n",
    "  if result is not None:\n",
    "    print(f\"Result: {result}\")"
   ]
  },
  {
   "cell_type": "markdown",
   "id": "4988899c",
   "metadata": {},
   "source": [
    "QUESTION - 15"
   ]
  },
  {
   "cell_type": "code",
   "execution_count": 35,
   "id": "a6744224",
   "metadata": {},
   "outputs": [
    {
     "name": "stdout",
     "output_type": "stream",
     "text": [
      "Good work!!Good work!!Good work!!\n",
      "Good work!!Good work!!Good work!!\n",
      "Good work!!Good work!!Good work!!Doing assignment\n"
     ]
    }
   ],
   "source": [
    "def print_file_content(filename):\n",
    "  \n",
    "  try:\n",
    "    with open(filename, 'r') as file:\n",
    "      content = file.read()\n",
    "      if content:\n",
    "        print(content)\n",
    "      else:\n",
    "        print(f\"The file '{filename}' is empty.\")\n",
    "  except FileNotFoundError:\n",
    "    print(f\"Error: File '{filename}' not found.\")\n",
    "  except Exception as e:\n",
    "    print(f\"An unexpected error occurred: {e}\")\n",
    "\n",
    "filename = 'C:\\\\Users\\\\Malay kumar purohit\\\\OneDrive\\\\Desktop\\\\EDA Tutorial\\\\assignment.txt'\n",
    "print_file_content(filename)"
   ]
  },
  {
   "cell_type": "markdown",
   "id": "ccef63e0",
   "metadata": {},
   "source": [
    "QUESTION - 17"
   ]
  },
  {
   "cell_type": "code",
   "execution_count": 38,
   "id": "0cfd2953",
   "metadata": {},
   "outputs": [
    {
     "name": "stdout",
     "output_type": "stream",
     "text": [
      "Collecting memory_profiler\n",
      "  Obtaining dependency information for memory_profiler from https://files.pythonhosted.org/packages/49/26/aaca612a0634ceede20682e692a6c55e35a94c21ba36b807cc40fe910ae1/memory_profiler-0.61.0-py3-none-any.whl.metadata\n",
      "  Downloading memory_profiler-0.61.0-py3-none-any.whl.metadata (20 kB)\n",
      "Requirement already satisfied: psutil in d:\\anaconda\\lib\\site-packages (from memory_profiler) (5.9.0)\n",
      "Downloading memory_profiler-0.61.0-py3-none-any.whl (31 kB)\n",
      "Installing collected packages: memory_profiler\n",
      "Successfully installed memory_profiler-0.61.0\n",
      "Note: you may need to restart the kernel to use updated packages.\n"
     ]
    }
   ],
   "source": [
    "pip install memory_profiler"
   ]
  },
  {
   "cell_type": "code",
   "execution_count": 40,
   "id": "56764c2d",
   "metadata": {},
   "outputs": [],
   "source": [
    "import memory_profiler\n",
    "\n",
    "def my_memory_intensive_function():\n",
    "  data = []\n",
    "  for i in range(1000000):\n",
    "    data.append(i)\n",
    "  return data\n",
    "\n",
    "if __name__ == \"__main__\":\n",
    "  my_memory_intensive_function()"
   ]
  },
  {
   "cell_type": "markdown",
   "id": "fb31f0ab",
   "metadata": {},
   "source": [
    "QUESTION - 18"
   ]
  },
  {
   "cell_type": "code",
   "execution_count": 42,
   "id": "67711817",
   "metadata": {},
   "outputs": [],
   "source": [
    "def write_numbers_to_file(filename, numbers):\n",
    "  with open(filename, 'w') as file:\n",
    "    for number in numbers:\n",
    "      file.write(str(number) + '\\n')\n",
    "\n",
    "# Example usage\n",
    "numbers = [1, 2.5, -3, 4.2, 0]\n",
    "write_numbers_to_file(\"C:\\\\Users\\\\Malay kumar purohit\\\\OneDrive\\\\Desktop\\\\EDA Tutorial\\\\numbers.txt\", numbers)"
   ]
  },
  {
   "cell_type": "markdown",
   "id": "44f481a6",
   "metadata": {},
   "source": [
    "QUESTION - 19"
   ]
  },
  {
   "cell_type": "code",
   "execution_count": 43,
   "id": "d63231de",
   "metadata": {},
   "outputs": [
    {
     "name": "stdout",
     "output_type": "stream",
     "text": [
      "IndexError occurred. Invalid index accessed.\n"
     ]
    }
   ],
   "source": [
    "def handle_exceptions():\n",
    "  my_list = [1, 2, 3]\n",
    "  my_dict = {'a': 1, 'b': 2}\n",
    "\n",
    "  try:\n",
    "    value1 = my_list[5] \n",
    "    value2 = my_dict['c']\n",
    "\n",
    "  except IndexError:\n",
    "    print(\"IndexError occurred. Invalid index accessed.\")\n",
    "  except KeyError:\n",
    "    print(\"KeyError occurred. Invalid key accessed.\")\n",
    "  except Exception as e:\n",
    "    print(f\"An unexpected error occurred: {e}\")\n",
    "\n",
    "handle_exceptions()"
   ]
  },
  {
   "cell_type": "markdown",
   "id": "c729a7e9",
   "metadata": {},
   "source": [
    "QUESTION - 20"
   ]
  },
  {
   "cell_type": "code",
   "execution_count": 44,
   "id": "dc00026b",
   "metadata": {},
   "outputs": [
    {
     "name": "stdout",
     "output_type": "stream",
     "text": [
      "1\n",
      "2.5\n",
      "-3\n",
      "4.2\n",
      "0\n",
      "\n"
     ]
    }
   ],
   "source": [
    "def read_file_with_context_manager(filename):\n",
    "  \n",
    "  with open(filename, 'r') as file:\n",
    "    return file.read()\n",
    "\n",
    "content = read_file_with_context_manager(\"C:\\\\Users\\\\Malay kumar purohit\\\\OneDrive\\\\Desktop\\\\EDA Tutorial\\\\numbers.txt\")\n",
    "print(content)"
   ]
  },
  {
   "cell_type": "markdown",
   "id": "d8589181",
   "metadata": {},
   "source": [
    "QUESTION - 21"
   ]
  },
  {
   "cell_type": "code",
   "execution_count": 46,
   "id": "059a435e",
   "metadata": {},
   "outputs": [
    {
     "name": "stdout",
     "output_type": "stream",
     "text": [
      "The word 'hello' occurs 0 times in the file.\n"
     ]
    }
   ],
   "source": [
    "def count_word_occurrences(filename, word):\n",
    "  count = 0\n",
    "  with open(filename, 'r') as file:\n",
    "    for line in file:\n",
    "      words = line.split()\n",
    "      count += words.count(word)\n",
    "  return count\n",
    "\n",
    "filename = \"C:\\\\Users\\\\Malay kumar purohit\\\\OneDrive\\\\Desktop\\\\EDA Tutorial\\\\assignment.txt\"\n",
    "word_to_count = \"hello\"\n",
    "occurrences = count_word_occurrences(filename, word_to_count)\n",
    "print(f\"The word '{word_to_count}' occurs {occurrences} times in the file.\")"
   ]
  },
  {
   "cell_type": "markdown",
   "id": "6ff80b98",
   "metadata": {},
   "source": [
    "QUESTION - 22"
   ]
  },
  {
   "cell_type": "code",
   "execution_count": 47,
   "id": "9525a5a2",
   "metadata": {},
   "outputs": [
    {
     "name": "stderr",
     "output_type": "stream",
     "text": [
      "ERROR:root:File not found: my_file.txt\n"
     ]
    }
   ],
   "source": [
    "import logging\n",
    "\n",
    "def handle_file_error(filename):\n",
    "  logging.basicConfig(filename='error.log', level=logging.ERROR, \n",
    "                      format='%(asctime)s - %(levelname)s - %(message)s')\n",
    "\n",
    "  try:\n",
    "    with open(filename, 'r') as file:\n",
    "      # Perform file operations here\n",
    "      file.read() \n",
    "  except FileNotFoundError:\n",
    "    logging.error(f\"File not found: {filename}\")\n",
    "  except PermissionError:\n",
    "    logging.error(f\"Permission denied for file: {filename}\")\n",
    "  except Exception as e:\n",
    "    logging.error(f\"An unexpected error occurred: {e}\")\n",
    "\n",
    "handle_file_error(\"my_file.txt\")"
   ]
  },
  {
   "cell_type": "code",
   "execution_count": null,
   "id": "810aa807",
   "metadata": {},
   "outputs": [],
   "source": []
  }
 ],
 "metadata": {
  "kernelspec": {
   "display_name": "Python 3 (ipykernel)",
   "language": "python",
   "name": "python3"
  },
  "language_info": {
   "codemirror_mode": {
    "name": "ipython",
    "version": 3
   },
   "file_extension": ".py",
   "mimetype": "text/x-python",
   "name": "python",
   "nbconvert_exporter": "python",
   "pygments_lexer": "ipython3",
   "version": "3.11.5"
  }
 },
 "nbformat": 4,
 "nbformat_minor": 5
}
