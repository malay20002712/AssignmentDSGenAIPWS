{
  "nbformat": 4,
  "nbformat_minor": 0,
  "metadata": {
    "colab": {
      "provenance": []
    },
    "kernelspec": {
      "name": "python3",
      "display_name": "Python 3"
    },
    "language_info": {
      "name": "python"
    }
  },
  "cells": [
    {
      "cell_type": "code",
      "execution_count": null,
      "metadata": {
        "id": "KlN9NO5VrB20",
        "colab": {
          "base_uri": "https://localhost:8080/"
        },
        "outputId": "c1dbc23a-95b1-4775-c097-53617d457844"
      },
      "outputs": [
        {
          "output_type": "stream",
          "name": "stdout",
          "text": [
            "Hello, World!\n"
          ]
        }
      ],
      "source": [
        "# 1 Write a Python program to print \"Hello, World!_\n",
        "print('Hello, World!')"
      ]
    },
    {
      "cell_type": "code",
      "source": [
        "# 2 Write a Python program that displays your name and age\n",
        "name, age = input('enter your name: '), int(input('enter your age: '))\n",
        "print(f\"Name : {name}, Age : {age}\")"
      ],
      "metadata": {
        "colab": {
          "base_uri": "https://localhost:8080/"
        },
        "id": "7UIphJtivc-v",
        "outputId": "7f98ec8a-71a9-4725-ee7e-6bb7b816317b"
      },
      "execution_count": null,
      "outputs": [
        {
          "output_type": "stream",
          "name": "stdout",
          "text": [
            "enter your name: Malay Kumar Puorhit\n",
            "enter your age: 24\n",
            "Name : Malay Kumar Puorhit, Age : 24\n"
          ]
        }
      ]
    },
    {
      "cell_type": "code",
      "source": [
        "# 3 Write code to print all the pre-defined keywords in Python using the keyword library0\n",
        "import keyword\n",
        "print(keyword.kwlist)"
      ],
      "metadata": {
        "colab": {
          "base_uri": "https://localhost:8080/"
        },
        "id": "Qx6QEq94v5Zl",
        "outputId": "9460fc8f-0658-4e94-90f5-32b1969136a9"
      },
      "execution_count": null,
      "outputs": [
        {
          "output_type": "stream",
          "name": "stdout",
          "text": [
            "['False', 'None', 'True', 'and', 'as', 'assert', 'async', 'await', 'break', 'class', 'continue', 'def', 'del', 'elif', 'else', 'except', 'finally', 'for', 'from', 'global', 'if', 'import', 'in', 'is', 'lambda', 'nonlocal', 'not', 'or', 'pass', 'raise', 'return', 'try', 'while', 'with', 'yield']\n"
          ]
        }
      ]
    },
    {
      "cell_type": "code",
      "source": [
        "# 4. Write a program that checks if a given word is a Python keyword0\n",
        "type_string = input()\n",
        "\n",
        "if type_string in keyword.kwlist: print('Given Keyword is a Python Keyword')\n",
        "else: print('Given keyword is not a Python Key word')"
      ],
      "metadata": {
        "colab": {
          "base_uri": "https://localhost:8080/"
        },
        "id": "uWeSmXolwfZ1",
        "outputId": "190af585-d29e-4c43-9496-146f06a38cda"
      },
      "execution_count": null,
      "outputs": [
        {
          "output_type": "stream",
          "name": "stdout",
          "text": [
            "if\n",
            "Given Keyword is a Python Keyword\n"
          ]
        }
      ]
    },
    {
      "cell_type": "code",
      "source": [
        "# 5 Create a list and tuple in Python, and demonstrate how attempting to change an element works differently\n",
        "# for each\n",
        "def function(my_list, my_tuple, my_string):\n",
        "  try:\n",
        "    my_list.append(9)\n",
        "    my_list[1] = 10\n",
        "  # List is mutable so it can be changed\n",
        "  except:\n",
        "    print('''my_list.append(9)\n",
        "    my_list[1] = 10 is giving error due to immutability''')\n",
        "  try:\n",
        "    my_tuple += (12,)\n",
        "  except Exception as e:\n",
        "    print('''my_tuple += (12), Tuple is not mutable as it can neither be added not replaced at a position.''')\n",
        "  try:\n",
        "    my_tuple[1] = 13\n",
        "  except Exception as e:\n",
        "    print('my_tuple[1] = 13, Tuple is not mutable as it can neither be added not replaced at a position.')\n",
        "  try:\n",
        "    my_string += 'we'\n",
        "  except Exception as ex:\n",
        "    print(f' my_string += we, String is not mutable so it is able to add a string but not get replaced at an index')\n",
        "  try:\n",
        "    my_string[2] = 't'\n",
        "  except Exception as ex:\n",
        "    print(' my_string[2] = t, String is not mutable so it is able to add a string but not get replaced at an index')\n",
        "\n",
        "\n",
        "my_list = [1, 2, 3]\n",
        "my_tuple = (4, 5, 6)\n",
        "my_string = \"Hello\"\n",
        "function(my_list, my_tuple, my_string)"
      ],
      "metadata": {
        "colab": {
          "base_uri": "https://localhost:8080/"
        },
        "id": "QN9p2GwIxY1F",
        "outputId": "a2ec53bf-2b0e-48c0-9803-4761ffeea240"
      },
      "execution_count": 6,
      "outputs": [
        {
          "output_type": "stream",
          "name": "stdout",
          "text": [
            "my_tuple[1] = 13, Tuple is not mutable as it can neither be added not replaced at a position.\n",
            " my_string[2] = t, String is not mutable so it is able to add a string but not get replaced at an index\n"
          ]
        }
      ]
    },
    {
      "cell_type": "code",
      "source": [
        "# 6 Write a function to demonstrate the behavior of mutable and immutable arguments\n",
        "\n",
        "def modify_argument(argument):\n",
        "  if isinstance(argument, list): argument.append('new_list')\n",
        "  else: argument += 1\n",
        "\n",
        "list_argument = [1, 2, 3]\n",
        "print(f\"original list before modifing argument : {list_argument}\")\n",
        "modify_argument(list_argument)\n",
        "\n",
        "num_argument = 5\n",
        "modify_argument(num_argument)\n",
        "\n",
        "print(num_argument)"
      ],
      "metadata": {
        "id": "nfFvWeUPF6TX",
        "colab": {
          "base_uri": "https://localhost:8080/"
        },
        "outputId": "2b9528d8-4d98-4ca6-a113-925a64060738"
      },
      "execution_count": 7,
      "outputs": [
        {
          "output_type": "stream",
          "name": "stdout",
          "text": [
            "[1, 2, 3, 'new_list']\n",
            "5\n"
          ]
        }
      ]
    },
    {
      "cell_type": "code",
      "source": [
        "# 7. Write a function to demonstrate the behavior of mutable and immutable arguments\n",
        "\n",
        "def modify_argument(argument):\n",
        "  if isinstance(argument, dict): argument[1] = 10\n",
        "  else: argument += 1\n",
        "\n",
        "list_argument = {1 : 1, 2 : 2, 3 : 3, 4 : 4}\n",
        "modify_argument(list_argument)\n",
        "num_argument = 10\n",
        "modify_argument(num_argument)\n",
        "print(list_argument)\n",
        "print(num_argument)"
      ],
      "metadata": {
        "colab": {
          "base_uri": "https://localhost:8080/"
        },
        "id": "iBPD63gJP1fc",
        "outputId": "cdf1afd4-20a2-43eb-f602-dd4f04d47809"
      },
      "execution_count": 8,
      "outputs": [
        {
          "output_type": "stream",
          "name": "stdout",
          "text": [
            "{1: 10, 2: 2, 3: 3, 4: 4}\n",
            "10\n"
          ]
        }
      ]
    },
    {
      "cell_type": "code",
      "source": [
        "# 8. Write a program to demonstrate the use of logical operators0\n",
        "def isValidAge(age):\n",
        "  if age >= 18:\n",
        "    return 'Valid age for driving.'\n",
        "  elif age >= 16 and age< 18:\n",
        "    return 'Valid for only non gear vehicle.'\n",
        "  else:\n",
        "    raise('Not valid for driving any vehicle except his/her cycle')\n",
        "age = int(input('enter the the age of the person: '))\n",
        "print(isValidAge(age))"
      ],
      "metadata": {
        "colab": {
          "base_uri": "https://localhost:8080/"
        },
        "id": "4tsuzSo9RaJS",
        "outputId": "9ccba815-950a-4cea-cf31-607f6d96a8f2"
      },
      "execution_count": 12,
      "outputs": [
        {
          "output_type": "stream",
          "name": "stdout",
          "text": [
            "enter the the age of the person: 17\n",
            "Valid for only non gear vehicle.\n"
          ]
        }
      ]
    },
    {
      "cell_type": "code",
      "source": [
        "# 9  Write a Python program to convert user input from string to integer, float, and boolean types\n",
        "a_int = int(input('enter a value in terms of integer: '))\n",
        "a_float = float(input('enter a value in terms of float: '))\n",
        "a_boolean = bool(input('enter a value in terms of Boolean: '))\n",
        "print(f\"{type(a_int)} : {a_int}, {type(a_float)}: {a_float}, {type(a_boolean)} : {a_boolean}\")\n"
      ],
      "metadata": {
        "colab": {
          "base_uri": "https://localhost:8080/"
        },
        "id": "CpSkE0hVTx7x",
        "outputId": "c88af279-d3f3-42b3-9464-33e418397516"
      },
      "execution_count": 15,
      "outputs": [
        {
          "output_type": "stream",
          "name": "stdout",
          "text": [
            "enter a value in terms of integer: 12\n",
            "enter a value in terms of float: 12.4\n",
            "enter a value in terms of Boolean: True\n",
            "<class 'int'> : 12, <class 'float'>: 12.4, <class 'bool'> : True\n"
          ]
        }
      ]
    },
    {
      "cell_type": "code",
      "source": [
        "# 10. Write code to demonstrate type casting with list elements\n",
        "\n",
        "def change_type(my_list):\n",
        "  # int_float_list = [int(i) if i.isdigit() else float(i) for i in my_list]\n",
        "  float_list = [float(i) for i in my_list]\n",
        "  print(f\"float_list: {float_list}\")\n",
        "\n",
        "my_list = [1, \"2\", 3.0, \"4.5\"]\n",
        "change_type(my_list)"
      ],
      "metadata": {
        "colab": {
          "base_uri": "https://localhost:8080/"
        },
        "id": "GcFpMzbDUxFk",
        "outputId": "539a9321-0efa-4ddb-9734-6c27f753be32"
      },
      "execution_count": 21,
      "outputs": [
        {
          "output_type": "stream",
          "name": "stdout",
          "text": [
            "float_list: [1.0, 2.0, 3.0, 4.5]\n"
          ]
        }
      ]
    },
    {
      "cell_type": "code",
      "source": [
        "\n",
        "# 11. Write a program that checks if a number is positive, negative, or zero\n",
        "def identifyPositiveNegativeZero(list_element):\n",
        "  for i in list_element:\n",
        "    if i & 1 == 0:\n",
        "      print(f\"{i} is Even\")\n",
        "    elif i & 1 == 1:\n",
        "      print(f\"{i} is Odd\")\n",
        "    elif i == 0:\n",
        "      print(f\"{i} is Zero\")\n",
        "\n",
        "\n",
        "list_element = [int(i) for i in input().split(' ')]\n",
        "identifyPositiveNegativeZero(list_element)"
      ],
      "metadata": {
        "colab": {
          "base_uri": "https://localhost:8080/"
        },
        "id": "nhEo0Rg1WPMB",
        "outputId": "e2b6f47d-9dcc-4800-c609-70e844f32818"
      },
      "execution_count": 26,
      "outputs": [
        {
          "output_type": "stream",
          "name": "stdout",
          "text": [
            "12 13 14 15 16 17 18 19 20\n",
            "12 is Even\n",
            "13 is Odd\n",
            "14 is Even\n",
            "15 is Odd\n",
            "16 is Even\n",
            "17 is Odd\n",
            "18 is Even\n",
            "19 is Odd\n",
            "20 is Even\n"
          ]
        }
      ]
    },
    {
      "cell_type": "code",
      "source": [
        "# 12. Write a for loop to print numbers from 1 to 100\n",
        "\n",
        "for i in range(1, 11):\n",
        "  print(i, end = \" \")"
      ],
      "metadata": {
        "colab": {
          "base_uri": "https://localhost:8080/"
        },
        "id": "DSpGulVLYU5m",
        "outputId": "56b88964-87f8-4b91-c38e-d322515939bf"
      },
      "execution_count": 28,
      "outputs": [
        {
          "output_type": "stream",
          "name": "stdout",
          "text": [
            "1 2 3 4 5 6 7 8 9 10 "
          ]
        }
      ]
    },
    {
      "cell_type": "code",
      "source": [
        "# 13. Write a Python program to find the sum of all even numbers between 1 and 500\n",
        "sum_list = []\n",
        "for i in range(1, 51):\n",
        "  if i & 1 == 0:\n",
        "    sum_list.append(i)\n",
        "print(sum_list)\n",
        "print(sum(sum_list))\n"
      ],
      "metadata": {
        "colab": {
          "base_uri": "https://localhost:8080/"
        },
        "id": "Kzvn4uYTZsAi",
        "outputId": "32c9646f-0ed9-4e2e-d9fc-fe7da7e3069f"
      },
      "execution_count": 31,
      "outputs": [
        {
          "output_type": "stream",
          "name": "stdout",
          "text": [
            "[2, 4, 6, 8, 10, 12, 14, 16, 18, 20, 22, 24, 26, 28, 30, 32, 34, 36, 38, 40, 42, 44, 46, 48, 50]\n",
            "650\n"
          ]
        }
      ]
    },
    {
      "cell_type": "code",
      "source": [
        "# 14. Write a program to reverse a string using a while loop\n",
        "\n",
        "string = input('enter a string: ')\n",
        "print(\"Before reversing: {}\".format(string))\n",
        "string_list = list(string)\n",
        "l, r = 0, len(string_list) - 1\n",
        "while l < r:\n",
        "  string_list[l], string_list[r] = string_list[r], string_list[l]\n",
        "  l += 1\n",
        "  r -= 1\n",
        "string = ''.join(string_list)\n",
        "print(\"After Reversing {}\".format(string))"
      ],
      "metadata": {
        "colab": {
          "base_uri": "https://localhost:8080/"
        },
        "id": "WgfaHcZtaAOf",
        "outputId": "85b468a6-114b-466b-badd-94deeec08a06"
      },
      "execution_count": 36,
      "outputs": [
        {
          "output_type": "stream",
          "name": "stdout",
          "text": [
            "enter a string: malay\n",
            "Before reversing: malay\n",
            "After Reversing yalam\n"
          ]
        }
      ]
    },
    {
      "cell_type": "code",
      "source": [
        "# 15. Write a Python program to calculate the factorial of a number provided by the user using a while loop.\n",
        "data = 1\n",
        "n = int(input('enter a number: '))\n",
        "i = 1\n",
        "while i <= n:\n",
        "  data *= i\n",
        "  i += 1\n",
        "print(data)"
      ],
      "metadata": {
        "colab": {
          "base_uri": "https://localhost:8080/"
        },
        "id": "0FNhi2Wqbkf8",
        "outputId": "5f2d789e-3736-40e8-bc6c-4f324d7fb088"
      },
      "execution_count": 37,
      "outputs": [
        {
          "output_type": "stream",
          "name": "stdout",
          "text": [
            "enter a number: 5\n",
            "120\n"
          ]
        }
      ]
    },
    {
      "cell_type": "code",
      "source": [],
      "metadata": {
        "id": "sgxX5AmgeYS2"
      },
      "execution_count": null,
      "outputs": []
    }
  ]
}