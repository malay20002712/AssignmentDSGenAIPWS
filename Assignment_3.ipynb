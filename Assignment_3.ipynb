{
 "cells": [
  {
   "cell_type": "markdown",
   "id": "cac293a8-a1f6-4902-bae1-9468822b96d3",
   "metadata": {},
   "source": [
    "Question - 1"
   ]
  },
  {
   "cell_type": "code",
   "execution_count": 1,
   "id": "9adf08ca-b007-4655-9edf-25f06715c478",
   "metadata": {},
   "outputs": [
    {
     "name": "stdout",
     "output_type": "stream",
     "text": [
      "Bark!\n"
     ]
    }
   ],
   "source": [
    "class Animal:\n",
    "    def __init__(self):\n",
    "        print('Animal')\n",
    "    \n",
    "    def speak(self):\n",
    "        print('Animal Speak')\n",
    "\n",
    "class Dog(Animal):\n",
    "    def __init__(self):\n",
    "        pass\n",
    "    \n",
    "    def speak(self):\n",
    "        print('Bark!')\n",
    "    \n",
    "def main():\n",
    "    dog = Dog()\n",
    "    dog.speak()\n",
    "\n",
    "if __name__ == '__main__':\n",
    "    main()"
   ]
  },
  {
   "cell_type": "markdown",
   "id": "e7326b11-9081-4a35-931a-1fe7935c7c96",
   "metadata": {},
   "source": [
    "Question - 2"
   ]
  },
  {
   "cell_type": "code",
   "execution_count": 8,
   "id": "f10d2aa5-3627-486b-afbd-ad3b1ddaa4b5",
   "metadata": {},
   "outputs": [
    {
     "name": "stdout",
     "output_type": "stream",
     "text": [
      "1 - area of Rectangle: \n",
      "2 - area of Circle: \n",
      "3 - Close it\n"
     ]
    },
    {
     "name": "stdin",
     "output_type": "stream",
     "text": [
      " 1\n",
      "enter the length:  12.5\n",
      "enter the breadth:  2.4\n"
     ]
    },
    {
     "name": "stdout",
     "output_type": "stream",
     "text": [
      "Area of the Rectangle: 30.0\n",
      "1 - area of Rectangle: \n",
      "2 - area of Circle: \n",
      "3 - Close it\n"
     ]
    },
    {
     "name": "stdin",
     "output_type": "stream",
     "text": [
      " 2\n",
      "enter the radius of the Circle:  2.5\n"
     ]
    },
    {
     "name": "stdout",
     "output_type": "stream",
     "text": [
      "Area of the Circle: 19.63\n",
      "1 - area of Rectangle: \n",
      "2 - area of Circle: \n",
      "3 - Close it\n"
     ]
    },
    {
     "name": "stdin",
     "output_type": "stream",
     "text": [
      " 3\n"
     ]
    }
   ],
   "source": [
    "import abc\n",
    "import math\n",
    "\n",
    "class Shape:\n",
    "    def __init__(self):\n",
    "        pass\n",
    "    \n",
    "    @abc.abstractmethod\n",
    "    def area(self):\n",
    "        pass\n",
    "    \n",
    "class Circle(Shape):\n",
    "    \n",
    "    def __init__(self):\n",
    "        pass\n",
    "    \n",
    "    def area(self):\n",
    "        return round(math.pi * (self.radius ** 2), 2)\n",
    "        \n",
    "    @property\n",
    "    def radius(self):\n",
    "        if self.__radius is None:\n",
    "            raise ValueError('Radius is not present')\n",
    "        return self.__radius\n",
    "    \n",
    "    @radius.setter\n",
    "    def radius(self, radius):\n",
    "        self.__radius = radius\n",
    "\n",
    "class Rectangle(Shape):\n",
    "    \n",
    "    def __init__(self):\n",
    "        pass\n",
    "    \n",
    "    def area(self):\n",
    "        return round(self.length * self.breadth, 2)\n",
    "    \n",
    "    @property\n",
    "    def breadth(self):\n",
    "        if self.__breadth is None:\n",
    "            raise ValueError('Breadth value is missing')\n",
    "        return self.__breadth\n",
    "    \n",
    "    @breadth.setter\n",
    "    def breadth(self, breadth):\n",
    "        self.__breadth = breadth\n",
    "        \n",
    "    @property\n",
    "    def length(self):\n",
    "        if self.__length is None:\n",
    "            raise ValueError(\"Length value is missing\")\n",
    "        return self.__length\n",
    "    \n",
    "    @length.setter\n",
    "    def length(self, length):\n",
    "        self.__length = length\n",
    "\n",
    "def operation(value, choice):\n",
    "    if choice == 1:\n",
    "        value.length = float(input('enter the length: '))\n",
    "        value.breadth = float(input('enter the breadth: '))\n",
    "        return value.area()\n",
    "    elif choice == 2:\n",
    "        value.radius = float(input('enter the radius of the Circle: '))\n",
    "        return value.area()\n",
    "   \n",
    "def main():\n",
    "    \n",
    "    while True:\n",
    "        print(\"1 - area of Rectangle: \")\n",
    "        print(\"2 - area of Circle: \")\n",
    "        print('3 - Close it')\n",
    "        choice = int(input())\n",
    "        if choice == 1:\n",
    "            rect = Rectangle()\n",
    "            value = operation(rect, 1)\n",
    "            print(f'Area of the Rectangle: {value}')\n",
    "        elif choice == 2:\n",
    "            cir = Circle()\n",
    "            value = operation(cir, 2)\n",
    "            print(f'Area of the Circle: {value}')\n",
    "        else: break\n",
    "\n",
    "if __name__ == '__main__':\n",
    "    main()"
   ]
  },
  {
   "cell_type": "markdown",
   "id": "b3265290-e4ec-460f-b04e-a49dc14153e1",
   "metadata": {},
   "source": [
    "QUESTION - 3"
   ]
  },
  {
   "cell_type": "code",
   "execution_count": 11,
   "id": "2546d0ca-fa4a-4593-a3c7-87bf6ca1f233",
   "metadata": {},
   "outputs": [
    {
     "name": "stdout",
     "output_type": "stream",
     "text": [
      "Battery capacity: 100\n",
      "Car model: TATA SUMO\n",
      "Vehicle type: Electric\n"
     ]
    }
   ],
   "source": [
    "class Vehicle:\n",
    "    def __init__(self, type):\n",
    "        self.type = type\n",
    "\n",
    "    def display_type(self):\n",
    "        print(\"Vehicle type:\", self.type)\n",
    "\n",
    "class Car(Vehicle):\n",
    "    def __init__(self, type, model):\n",
    "        super().__init__(type)\n",
    "        self.model = model\n",
    "\n",
    "    def display_details(self):\n",
    "        print(\"Car model:\", self.model)\n",
    "        super().display_type()\n",
    "\n",
    "class ElectricCar(Car):\n",
    "    def __init__(self, type, model, battery_capacity):\n",
    "        super().__init__(type, model)\n",
    "        self.battery_capacity = battery_capacity\n",
    "\n",
    "    def display_electric_car_details(self):\n",
    "        print(\"Battery capacity:\", self.battery_capacity)\n",
    "        super().display_details()\n",
    "\n",
    "# Create an object of ElectricCar\n",
    "electric_car = ElectricCar(\"Electric\", \"TATA SUMO\", 100)\n",
    "electric_car.display_electric_car_details()"
   ]
  },
  {
   "cell_type": "markdown",
   "id": "4111490e-1b21-4174-9d44-eac8a59dd22b",
   "metadata": {},
   "source": [
    "QUESTION - 4"
   ]
  },
  {
   "cell_type": "code",
   "execution_count": 14,
   "id": "9a03c2b9-c6a5-4018-b026-22cd9108f808",
   "metadata": {},
   "outputs": [
    {
     "name": "stdout",
     "output_type": "stream",
     "text": [
      "Deposited 500. New balance: 1500\n",
      "Withdrew 200. New balance: 1300\n",
      "Your current balance is: 1300\n"
     ]
    }
   ],
   "source": [
    "class BankAccount:\n",
    "    def __init__(self, initial_balance):\n",
    "        self.__balance = initial_balance\n",
    "\n",
    "    def deposit(self, amount):\n",
    "        if amount > 0:\n",
    "            self.__balance += amount\n",
    "            print(f\"Deposited {amount}. New balance: {self.__balance}\")\n",
    "        else:\n",
    "            print(\"Invalid deposit amount\")\n",
    "\n",
    "    def withdraw(self, amount):\n",
    "        if amount > 0 and amount <= self.__balance:\n",
    "            self.__balance -= amount\n",
    "            print(f\"Withdrew {amount}. New balance: {self.__balance}\")\n",
    "        else:\n",
    "            print(\"Insufficient balance or invalid withdrawal amount\")\n",
    "\n",
    "    def check_balance(self):\n",
    "        print(f\"Your current balance is: {self.__balance}\")\n",
    "\n",
    "account = BankAccount(1000)  # Create an account with initial balance 1000\n",
    "\n",
    "account.deposit(500)  # Deposit 500\n",
    "account.withdraw(200)  # Withdraw 200\n",
    "account.check_balance()  # Check the current balance"
   ]
  },
  {
   "cell_type": "markdown",
   "id": "8c3a737d-6c7e-4a27-b558-8bac75acb3ec",
   "metadata": {},
   "source": [
    "QUESTION - 5"
   ]
  },
  {
   "cell_type": "code",
   "execution_count": 17,
   "id": "6e54a16b-175b-409d-b079-831b6e7e767e",
   "metadata": {},
   "outputs": [
    {
     "name": "stdout",
     "output_type": "stream",
     "text": [
      "Playing guitar\n",
      "Playing piano\n"
     ]
    }
   ],
   "source": [
    "class Instrument:\n",
    "    def play(self):\n",
    "        pass\n",
    "\n",
    "class Guitar(Instrument):\n",
    "    def play(self):\n",
    "        print(\"Playing guitar\")\n",
    "\n",
    "class Piano(Instrument):\n",
    "    def play(self):\n",
    "        print(\"Playing piano\")\n",
    "\n",
    "def main():\n",
    "    instruments = [Guitar(), Piano()]\n",
    "    for instrument in instruments:\n",
    "        instrument.play()\n",
    "\n",
    "if __name__ == \"__main__\":\n",
    "    main()"
   ]
  },
  {
   "cell_type": "markdown",
   "id": "ba301a4c-4f49-4aad-88e2-bdc67ad22451",
   "metadata": {},
   "source": [
    "QUESTION - 6"
   ]
  },
  {
   "cell_type": "code",
   "execution_count": 43,
   "id": "8210c130-3829-471f-8355-42e28a60e55f",
   "metadata": {},
   "outputs": [
    {
     "name": "stdout",
     "output_type": "stream",
     "text": [
      "Addition: 8\n",
      "Subtraction: 6\n"
     ]
    }
   ],
   "source": [
    "class MathOperations:\n",
    "    @classmethod\n",
    "    def add_numbers(cls, a, b):\n",
    "        return a + b\n",
    "\n",
    "    @staticmethod\n",
    "    def subtract_numbers(a, b):\n",
    "        return a - b\n",
    "\n",
    "\n",
    "result_add = MathOperations.add_numbers(5, 3)\n",
    "result_subtract = MathOperations.subtract_numbers(10, 4)\n",
    "\n",
    "print(\"Addition:\", result_add)\n",
    "print(\"Subtraction:\", result_subtract)"
   ]
  },
  {
   "cell_type": "markdown",
   "id": "c828dab8-1321-4a84-ace2-601c08da5f13",
   "metadata": {},
   "source": [
    "QUESTOIN - 7"
   ]
  },
  {
   "cell_type": "code",
   "execution_count": 41,
   "id": "d4505358-33c9-41df-9036-579f1d8a6071",
   "metadata": {},
   "outputs": [
    {
     "name": "stdout",
     "output_type": "stream",
     "text": [
      "Addition: 8\n",
      "Subtraction: 6\n"
     ]
    }
   ],
   "source": [
    "class MathOperations:\n",
    "    @classmethod\n",
    "    def add_numbers(cls, a, b):\n",
    "        return a + b\n",
    "\n",
    "    @staticmethod\n",
    "    def subtract_numbers(a, b):\n",
    "        return a - b\n",
    "\n",
    "\n",
    "result_add = MathOperations.add_numbers(5, 3)\n",
    "result_subtract = MathOperations.subtract_numbers(10, 4)\n",
    "\n",
    "print(\"Addition:\", result_add)\n",
    "print(\"Subtraction:\", result_subtract)"
   ]
  },
  {
   "cell_type": "markdown",
   "id": "aecf7621-d484-41d1-be3e-79ffa174f1b9",
   "metadata": {},
   "source": [
    "QUESTION - 8"
   ]
  },
  {
   "cell_type": "code",
   "execution_count": 27,
   "id": "9b544e19-0b77-4c07-8595-541abaaed2b3",
   "metadata": {},
   "outputs": [
    {
     "name": "stdout",
     "output_type": "stream",
     "text": [
      "Total number of persons created: 3\n"
     ]
    }
   ],
   "source": [
    "class Person:\n",
    "    count = 0\n",
    "\n",
    "    def __init__(self, name):\n",
    "        self.name = name\n",
    "        Person.count += 1\n",
    "\n",
    "    @classmethod\n",
    "    def get_person_count(cls):\n",
    "        return cls.count\n",
    "\n",
    "# Create instances of Person\n",
    "person1 = Person(\"Alice\")\n",
    "person2 = Person(\"Bob\")\n",
    "person3 = Person(\"Charlie\")\n",
    "\n",
    "print(\"Total number of persons created:\", Person.get_person_count())"
   ]
  },
  {
   "cell_type": "markdown",
   "id": "a4275dcb-7832-4e5d-b219-695af05d6224",
   "metadata": {},
   "source": [
    "QUESTION - 9"
   ]
  },
  {
   "cell_type": "code",
   "execution_count": 37,
   "id": "8bfa36c5-b2f1-48c8-8aa6-94d34d2a7e34",
   "metadata": {},
   "outputs": [
    {
     "name": "stdout",
     "output_type": "stream",
     "text": [
      "3/4\n"
     ]
    }
   ],
   "source": [
    "class Fraction:\n",
    "    def __init__(self, numerator, denominator):\n",
    "        self.numerator = numerator\n",
    "        self.denominator = denominator\n",
    "\n",
    "    def __str__(self):\n",
    "        return f\"{self.numerator}/{self.denominator}\"\n",
    "\n",
    "fraction1 = Fraction(3, 4)\n",
    "print(fraction1)  # Output: 3/4"
   ]
  },
  {
   "cell_type": "markdown",
   "id": "4e8e02d5-d4c6-4832-b3d8-cc80cb552dcd",
   "metadata": {},
   "source": [
    "QUESTION - 10"
   ]
  },
  {
   "cell_type": "code",
   "execution_count": 39,
   "id": "1e59eb79-a0c6-49dc-8258-4cdadc44e21e",
   "metadata": {},
   "outputs": [
    {
     "name": "stdout",
     "output_type": "stream",
     "text": [
      "(3, 7)\n"
     ]
    }
   ],
   "source": [
    "class Vector:\n",
    "    def __init__(self, x, y):\n",
    "        self.x = x\n",
    "        self.y = y\n",
    "\n",
    "    def __add__(self, other):\n",
    "        return Vector(self.x + other.x, self.y + other.y)\n",
    "\n",
    "    def __str__(self):\n",
    "        return f\"({self.x}, {self.y})\"\n",
    "\n",
    "v1 = Vector(2, 3)\n",
    "v2 = Vector(1, 4)\n",
    "\n",
    "v3 = v1 + v2  # Using the overloaded + operator\n",
    "\n",
    "print(v3)  # Output: (3, 7)"
   ]
  },
  {
   "cell_type": "markdown",
   "id": "2c3b1e60-bf8e-4c3f-bb55-4421de9aa1c1",
   "metadata": {},
   "source": [
    "QUESTION - 11"
   ]
  },
  {
   "cell_type": "code",
   "execution_count": 58,
   "id": "52ab7cbf-2ee8-4100-8f3d-2c52682154e1",
   "metadata": {},
   "outputs": [
    {
     "name": "stdout",
     "output_type": "stream",
     "text": [
      "Hello, my name is Alice and I am 30 years old.\n"
     ]
    }
   ],
   "source": [
    "class Person:\n",
    "    def __init__(self, name, age):\n",
    "        self.name = name\n",
    "        self.age = age\n",
    "\n",
    "    def greet(self):\n",
    "        print(f\"Hello, my name is {self.name} and I am {self.age} years old.\")\n",
    "\n",
    "\n",
    "person1 = Person(\"Alice\", 30)\n",
    "person1.greet()"
   ]
  },
  {
   "cell_type": "markdown",
   "id": "d4513a72-7dfd-4075-943b-34e73fd666ea",
   "metadata": {},
   "source": [
    "QUESTION 12"
   ]
  },
  {
   "cell_type": "code",
   "execution_count": 54,
   "id": "68e82e92-869b-470b-8eda-f3f324fc13bb",
   "metadata": {},
   "outputs": [
    {
     "name": "stdout",
     "output_type": "stream",
     "text": [
      "Average grade for Alice: 85.0\n"
     ]
    }
   ],
   "source": [
    "class Student:\n",
    "    def __init__(self, name, grades):\n",
    "        self.name = name\n",
    "        self.grades = grades\n",
    "\n",
    "    def average_grade(self):\n",
    "        total_grades = sum(self.grades)\n",
    "        average = total_grades / len(self.grades)\n",
    "        return average\n",
    "\n",
    "student1 = Student(\"Alice\", [85, 92, 78])\n",
    "average_grade = student1.average_grade()\n",
    "print(f\"Average grade for {student1.name}: {average_grade}\")"
   ]
  },
  {
   "cell_type": "markdown",
   "id": "49abb4ca-d9c6-4ef0-875f-e3ba7266218f",
   "metadata": {},
   "source": [
    "QUESTION 13:"
   ]
  },
  {
   "cell_type": "code",
   "execution_count": 56,
   "id": "19e60de3-a83b-471e-8fa0-563c88fc07c8",
   "metadata": {},
   "outputs": [
    {
     "name": "stdout",
     "output_type": "stream",
     "text": [
      "Area of the rectangle: 15\n"
     ]
    }
   ],
   "source": [
    "class Rectangle:\n",
    "    def __init__(self):\n",
    "        self.length = 0\n",
    "        self.width = 0\n",
    "\n",
    "    def set_dimensions(self, length, width):\n",
    "        self.length = length\n",
    "        self.width = width\n",
    "\n",
    "    def area(self):\n",
    "        return self.length * self.width\n",
    "\n",
    "\n",
    "rectangle = Rectangle()\n",
    "rectangle.set_dimensions(5, 3)\n",
    "area = rectangle.area()\n",
    "print(\"Area of the rectangle:\", area)"
   ]
  },
  {
   "cell_type": "markdown",
   "id": "0e2df0dc-4c5f-4c8d-b378-fb749629a447",
   "metadata": {},
   "source": [
    "QUESTION 14"
   ]
  },
  {
   "cell_type": "code",
   "execution_count": 61,
   "id": "63126222-b62c-4035-833e-3997daea1fa5",
   "metadata": {},
   "outputs": [
    {
     "name": "stdout",
     "output_type": "stream",
     "text": [
      "Employee's salary: 800\n",
      "Manager's salary: 2200\n"
     ]
    }
   ],
   "source": [
    "class Employee:\n",
    "    def __init__(self, hours_worked, hourly_rate):\n",
    "        self.hours_worked = hours_worked\n",
    "        self.hourly_rate = hourly_rate\n",
    "\n",
    "    def calculate_salary(self):\n",
    "        return self.hours_worked * self.hourly_rate\n",
    "\n",
    "class Manager(Employee):\n",
    "    def calculate_salary(self):\n",
    "        base_salary = super().calculate_salary()\n",
    "        bonus = 1000  # Adjust bonus amount as needed\n",
    "        return base_salary + bonus\n",
    "\n",
    "employee = Employee(40, 20)\n",
    "manager = Manager(40, 30)\n",
    "\n",
    "print(\"Employee's salary:\", employee.calculate_salary())\n",
    "print(\"Manager's salary:\", manager.calculate_salary())"
   ]
  },
  {
   "cell_type": "markdown",
   "id": "ecdb2e5a-f845-4dc1-b49d-9f4db6e3a2d1",
   "metadata": {},
   "source": [
    "QUESTION 15:"
   ]
  },
  {
   "cell_type": "code",
   "execution_count": 66,
   "id": "8183f0be-3151-432a-982e-6c5bdbc1bf7f",
   "metadata": {},
   "outputs": [
    {
     "name": "stdout",
     "output_type": "stream",
     "text": [
      "Total cost: 160000\n"
     ]
    }
   ],
   "source": [
    "class Product:\n",
    "    def __init__(self, name, price, quantity):\n",
    "        self.name = name\n",
    "        self.price = price\n",
    "        self.quantity = quantity\n",
    "\n",
    "    def total_price(self):\n",
    "        return self.price * self.quantity\n",
    "\n",
    "product1 = Product(\"Laptop\", 80000, 2)\n",
    "total_cost = product1.total_price()\n",
    "print(\"Total cost:\", total_cost)"
   ]
  },
  {
   "cell_type": "markdown",
   "id": "13fb2530-a884-488a-97cb-e0ca36f84181",
   "metadata": {},
   "source": [
    "QUESTION 16"
   ]
  },
  {
   "cell_type": "code",
   "execution_count": 69,
   "id": "74e162bd-71d2-4e9b-81ea-ce58da2af719",
   "metadata": {},
   "outputs": [
    {
     "name": "stdout",
     "output_type": "stream",
     "text": [
      "Moo\n",
      "Baa\n"
     ]
    }
   ],
   "source": [
    "from abc import ABC, abstractmethod\n",
    "\n",
    "class Animal(ABC):\n",
    "    @abstractmethod\n",
    "    def sound(self):\n",
    "        pass\n",
    "\n",
    "class Cow(Animal):\n",
    "    def sound(self):\n",
    "        print(\"Moo\")\n",
    "\n",
    "class Sheep(Animal):\n",
    "    def sound(self):\n",
    "        print(\"Baa\")\n",
    "\n",
    "animals = [Cow(), Sheep()]\n",
    "for animal in animals:\n",
    "    animal.sound()"
   ]
  },
  {
   "cell_type": "markdown",
   "id": "c99037a4-5b33-4850-8871-138d4f53b172",
   "metadata": {},
   "source": [
    "QUESTION 17"
   ]
  },
  {
   "cell_type": "code",
   "execution_count": 72,
   "id": "aab1de0e-5421-4b78-9d8b-343d6ca39b21",
   "metadata": {},
   "outputs": [
    {
     "name": "stdout",
     "output_type": "stream",
     "text": [
      "Title: The Lord of the Rings\n",
      "Author: J.R.R. Tolkien\n",
      "Year Published: 1954\n"
     ]
    }
   ],
   "source": [
    "class Book:\n",
    "    def __init__(self, title, author, year_published):\n",
    "        self.title = title\n",
    "        self.author = author\n",
    "        self.year_published = year_published\n",
    "\n",
    "    def get_book_info(self):\n",
    "        return f\"Title: {self.title}\\nAuthor: {self.author}\\nYear Published: {self.year_published}\"\n",
    "\n",
    "book1 = Book(\"The Lord of the Rings\", \"J.R.R. Tolkien\", 1954)\n",
    "book_info = book1.get_book_info()\n",
    "print(book_info)"
   ]
  },
  {
   "cell_type": "markdown",
   "id": "93ac0217-5b34-4920-a0d1-cff7bdd81ceb",
   "metadata": {},
   "source": [
    "QUESTION 18"
   ]
  },
  {
   "cell_type": "code",
   "execution_count": 75,
   "id": "1df1ee8b-2d8d-40a0-8346-0e059b2debac",
   "metadata": {},
   "outputs": [
    {
     "name": "stdout",
     "output_type": "stream",
     "text": [
      "123 Main St 200000\n",
      "456 Park Ave 1000000 10\n"
     ]
    }
   ],
   "source": [
    "class House:\n",
    "    def __init__(self, address, price):\n",
    "        self.address = address\n",
    "        self.price = price\n",
    "\n",
    "class Mansion(House):\n",
    "    def __init__(self, address, price, number_of_rooms):\n",
    "        super().__init__(address, price)\n",
    "        self.number_of_rooms = number_of_rooms\n",
    "\n",
    "house1 = House(\"123 Main St\", 200000)\n",
    "mansion1 = Mansion(\"456 Park Ave\", 1000000, 10)\n",
    "\n",
    "print(house1.address, house1.price)\n",
    "print(mansion1.address, mansion1.price, mansion1.number_of_rooms)"
   ]
  },
  {
   "cell_type": "code",
   "execution_count": null,
   "id": "b8a0db79-47df-4929-89a5-0035c7e5ecba",
   "metadata": {},
   "outputs": [],
   "source": []
  }
 ],
 "metadata": {
  "kernelspec": {
   "display_name": "Python 3 (ipykernel)",
   "language": "python",
   "name": "python3"
  },
  "language_info": {
   "codemirror_mode": {
    "name": "ipython",
    "version": 3
   },
   "file_extension": ".py",
   "mimetype": "text/x-python",
   "name": "python",
   "nbconvert_exporter": "python",
   "pygments_lexer": "ipython3",
   "version": "3.12.7"
  }
 },
 "nbformat": 4,
 "nbformat_minor": 5
}
