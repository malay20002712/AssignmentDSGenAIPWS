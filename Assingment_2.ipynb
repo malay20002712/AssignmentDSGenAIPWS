{
 "cells": [
  {
   "cell_type": "code",
   "execution_count": 1,
   "id": "648c2278-c92f-447f-9075-c0fe55ed4cae",
   "metadata": {},
   "outputs": [],
   "source": [
    "import pandas as pd"
   ]
  },
  {
   "cell_type": "markdown",
   "id": "1138c8f0-0551-45f8-948e-9c1b70d03327",
   "metadata": {},
   "source": [
    "Question - 1"
   ]
  },
  {
   "cell_type": "code",
   "execution_count": 10,
   "id": "8120e8df-8295-4452-8ccd-3b8a6c6deb2e",
   "metadata": {},
   "outputs": [
    {
     "name": "stdin",
     "output_type": "stream",
     "text": [
      " 1, 2, 3, 4, 5, 6, 7, 8\n"
     ]
    },
    {
     "name": "stdout",
     "output_type": "stream",
     "text": [
      "20\n"
     ]
    }
   ],
   "source": [
    "number_list = sum(int(i) for i in input().split(', ') if int(i) & 1 == 0)\n",
    "print(number_list)"
   ]
  },
  {
   "cell_type": "code",
   "execution_count": 12,
   "id": "29800249-bc6b-40cb-ae7a-0b13415242a7",
   "metadata": {},
   "outputs": [
    {
     "name": "stdin",
     "output_type": "stream",
     "text": [
      "enter a string:  PWSkills\n"
     ]
    },
    {
     "name": "stdout",
     "output_type": "stream",
     "text": [
      "sllikSWP\n"
     ]
    }
   ],
   "source": [
    "def reverse(string):\n",
    "    return string[::-1]\n",
    "print(reverse(input('enter a string: ')))"
   ]
  },
  {
   "cell_type": "code",
   "execution_count": 14,
   "id": "d0a04fc3-25b5-407f-ad64-7fedf35ae741",
   "metadata": {},
   "outputs": [
    {
     "name": "stdin",
     "output_type": "stream",
     "text": [
      "  1 2 3 4 5 6\n"
     ]
    },
    {
     "name": "stdout",
     "output_type": "stream",
     "text": [
      "[1, 4, 9, 16, 25, 36]\n"
     ]
    }
   ],
   "source": [
    "def square_data(list_data):\n",
    "    return [i**2 for i in list_data]\n",
    "enter_data = [int(i) for i in input(' ').split(' ')]\n",
    "print(square_data(enter_data))"
   ]
  },
  {
   "cell_type": "code",
   "execution_count": 1,
   "id": "7d35b5d9-ed97-4d73-b32a-7379c2a16873",
   "metadata": {},
   "outputs": [
    {
     "name": "stdout",
     "output_type": "stream",
     "text": [
      "[1, 2, 3, 5, 7, 11, 13, 17, 19, 23, 29, 31, 37, 41, 43, 47, 53, 59, 61, 67, 71, 73, 79, 83, 89, 97, 101, 103, 107, 109, 113, 127, 131, 137, 139, 149, 151, 157, 163, 167, 173, 179, 181, 191, 193, 197, 199]\n"
     ]
    }
   ],
   "source": [
    "import math as m\n",
    "\n",
    "def isprime(data):\n",
    "    if data == 2 or data == 3:\n",
    "        return True\n",
    "    else:\n",
    "        r = m.floor(m.sqrt(data))\n",
    "        for i in range(2, r + 1):\n",
    "            if data % i == 0:   \n",
    "                return False\n",
    "    return True\n",
    "def prime_numbers(data):\n",
    "    prime = []\n",
    "    for i in data:\n",
    "        if isprime(i) == True: prime.append(i)\n",
    "    return prime\n",
    "print(prime_numbers([i for i in range(1, 201)]))"
   ]
  },
  {
   "cell_type": "code",
   "execution_count": 9,
   "id": "7c5e4fb8-0908-4cab-978d-d02c9e22bb8b",
   "metadata": {},
   "outputs": [
    {
     "name": "stdin",
     "output_type": "stream",
     "text": [
      "enter the number of data until the fibonacci series goes:  12\n"
     ]
    },
    {
     "name": "stdout",
     "output_type": "stream",
     "text": [
      "[0, 1, 1, 2, 3, 5, 8, 13, 21, 34, 55, 89]\n"
     ]
    }
   ],
   "source": [
    "class FibonacciIterator:\n",
    "    def __init__(self, n):\n",
    "        self.n = n\n",
    "        self.a, self.b = 0, 1\n",
    "        self.count = 0\n",
    "\n",
    "    def __iter__(self):\n",
    "        return self\n",
    "\n",
    "    def __next__(self):\n",
    "        if self.count >= self.n:\n",
    "            raise StopIteration\n",
    "        self.count += 1\n",
    "        if self.count == 1:\n",
    "            return self.a\n",
    "        self.a, self.b = self.b, self.a + self.b\n",
    "        return self.a\n",
    "\n",
    "iteration_data = []\n",
    "number_data = int(input('enter the number of data until the fibonacci series goes: '))\n",
    "for num in FibonacciIterator(number_data):\n",
    "    iteration_data.append(num)\n",
    "print(iteration_data)"
   ]
  },
  {
   "cell_type": "code",
   "execution_count": 11,
   "id": "e8c4af2d-fc7b-4b21-9c00-785b0fb09f82",
   "metadata": {},
   "outputs": [
    {
     "name": "stdin",
     "output_type": "stream",
     "text": [
      "enter the number of data until the series wants to print:  10\n"
     ]
    },
    {
     "name": "stdout",
     "output_type": "stream",
     "text": [
      "1\n",
      "2\n",
      "4\n",
      "8\n",
      "16\n",
      "32\n",
      "64\n",
      "128\n",
      "256\n",
      "512\n",
      "1024\n"
     ]
    }
   ],
   "source": [
    "def powers_of_two(exponent):\n",
    "    power = 1\n",
    "    for i in range(exponent + 1):\n",
    "        yield power\n",
    "        power *= 2\n",
    "\n",
    "\n",
    "number_data = int(input('enter the number of data until the series wants to print: '))\n",
    "for power in powers_of_two(number_data):\n",
    "    print(power)"
   ]
  },
  {
   "cell_type": "code",
   "execution_count": 5,
   "id": "d80de031-3696-4f84-ad6b-b63a7746cff3",
   "metadata": {},
   "outputs": [
    {
     "name": "stdout",
     "output_type": "stream",
     "text": [
      "Generator functions in Python offer a powerful and efficient way to work with sequences of values. By using the yield keyword, we can create functions that produce values on-demand, rather than generating and storing them all at once. This is particularly useful when dealing with large datasets or infinite sequences, as it allows us to process data in a memory-efficient manner.\n",
      "One practical application of generator functions is reading files line by line. Instead of loading the entire file into memory, we can use a generator to process each line as needed. This is especially beneficial when working with large text files, as it prevents memory overload and improves performance.\n",
      "Generator functions embody the concept of lazy evaluation, where computations are deferred until the results are actually needed. This can lead to significant performance gains, especially in scenarios where not all values in a sequence are required. By leveraging generators, we can optimize our code and write more efficient algorithms.\n"
     ]
    }
   ],
   "source": [
    "def read_file_lines(filename):\n",
    "    with open(filename, 'r') as file:\n",
    "        for line in file:\n",
    "            yield line.strip()\n",
    "\n",
    "for line in read_file_lines('C:\\\\Users\\\\Sunuu\\\\Desktop\\\\PythonPracitise\\\\file_test.txt'):\n",
    "    print(line)"
   ]
  },
  {
   "cell_type": "code",
   "execution_count": 17,
   "id": "65dc1809-4b21-4036-aed7-2f4289d17313",
   "metadata": {},
   "outputs": [
    {
     "name": "stdin",
     "output_type": "stream",
     "text": [
      "enter the number of elements you want to enter:  5\n",
      "enter the element in the list:  3 4\n",
      "enter the element in the list:  1 2\n",
      "enter the element in the list:  -1 -3\n",
      "enter the element in the list:  10 11\n",
      "enter the element in the list:  12 15\n"
     ]
    },
    {
     "name": "stdout",
     "output_type": "stream",
     "text": [
      "[(-1, -3), (1, 2), (3, 4), (10, 11), (12, 15)]\n"
     ]
    }
   ],
   "source": [
    "number_elements = int(input('enter the number of elements you want to enter: '))\n",
    "element_list = []\n",
    "for i in range(number_elements):\n",
    "    li = [int(i) for i in input('enter the element in the list: ').split(' ')]\n",
    "    element_list.append(tuple(li))\n",
    "sorted_data = sorted(element_list, key = lambda x : x[1])\n",
    "print(sorted_data)"
   ]
  },
  {
   "cell_type": "code",
   "execution_count": 21,
   "id": "e228a6cd-ddc5-437a-86aa-2be08095c4d8",
   "metadata": {},
   "outputs": [
    {
     "name": "stdin",
     "output_type": "stream",
     "text": [
      "enter the temperature in celcius 16 17 23 47 37 50\n"
     ]
    },
    {
     "name": "stdout",
     "output_type": "stream",
     "text": [
      "Celsius temperatures: [16, 17, 23, 47, 37, 50]\n",
      "Fahrenheit temperatures: [60.8, 62.6, 73.4, 116.6, 98.6, 122.0]\n"
     ]
    }
   ],
   "source": [
    "# List of temperatures in Celsius\n",
    "\n",
    "\n",
    "# Function to convert Celsius to Fahrenheit\n",
    "# Formula: (C × 9/5) + 32 = F\n",
    "celsius_to_fahrenheit = lambda c: (c * 9/5) + 32\n",
    "celsius_temps = [int(i) for i in input('enter the temperature in celcius').split(' ')]\n",
    "# Use map() to apply the conversion function to each temperature\n",
    "fahrenheit_temps = list(map(celsius_to_fahrenheit, celsius_temps))\n",
    "\n",
    "print(\"Celsius temperatures:\", celsius_temps)\n",
    "print(\"Fahrenheit temperatures:\", fahrenheit_temps)\n"
   ]
  },
  {
   "cell_type": "code",
   "execution_count": 25,
   "id": "c99ebefd-e830-4e88-8509-c6cd35b621ea",
   "metadata": {},
   "outputs": [
    {
     "name": "stdin",
     "output_type": "stream",
     "text": [
      "enter a string:  Hi there I am Malay in PWSkills class\n"
     ]
    },
    {
     "name": "stdout",
     "output_type": "stream",
     "text": [
      "Original string: Hi there I am Malay in PWSkills class\n",
      "String without vowels: H thr  m Mly n PWSklls clss\n"
     ]
    }
   ],
   "source": [
    "\n",
    "input_string = input('enter a string: ')\n",
    "is_not_vowel = lambda char: char.lower() not in 'aeiou'\n",
    "\n",
    "filtered_string = ''.join(filter(is_not_vowel, input_string))\n",
    "\n",
    "print(\"Original string:\", input_string)\n",
    "print(\"String without vowels:\", filtered_string)"
   ]
  },
  {
   "cell_type": "code",
   "execution_count": 27,
   "id": "9cf6cbb4-5714-42f3-b01a-f5d5075ce374",
   "metadata": {},
   "outputs": [
    {
     "name": "stdout",
     "output_type": "stream",
     "text": [
      "[('A', 375.15), ('D', 34.989999999999995)]\n"
     ]
    }
   ],
   "source": [
    "def calculate_order_totals(orders):\n",
    "    def calculate_total(order):\n",
    "        order_number, items = order\n",
    "        total_price = sum(quantity * price for quantity, price in items)\n",
    "        return order_number, total_price + 10 if total_price < 100 else total_price\n",
    "\n",
    "    return list(map(calculate_total, orders))\n",
    "\n",
    "\n",
    "orders = [\n",
    "    (\"A\", [(5, 40.95), (3, 56.80)]),\n",
    "    (\"D\", [(24.99, 1)])\n",
    "]\n",
    "\n",
    "result = calculate_order_totals(orders)\n",
    "print(result)  # Output: [('A', 327.15), ('D', 34.99)]"
   ]
  },
  {
   "cell_type": "code",
   "execution_count": 35,
   "id": "cc41c555-a37f-4fcf-846c-e668ad7be805",
   "metadata": {},
   "outputs": [
    {
     "name": "stdout",
     "output_type": "stream",
     "text": [
      "[(34587, 163.8), (98762, 284.0), (77226, 108.85000000000001), (88112, 84.97)]\n"
     ]
    }
   ],
   "source": [
    "\n",
    "orders = {\n",
    "    'Order Number': [34587, 98762, 77226, 88112],\n",
    "    'Book Title and Author': [\"Learning Python, Mark Lutz\", \"Programming Python, Mark Lutz\", \"Head First Python, Paul Barry\", \"Python Cookbook, David Beazley\"],\n",
    "    'Quantity': [4, 5, 3, 3],\n",
    "    'Price per Item': [40.95, 56.80, 32.95, 24.99]\n",
    "}\n",
    "\n",
    "result = list(map(\n",
    "    lambda x: (x[0], x[1] * x[2] + 10 if x[1] * x[2] < 100 else x[1] * x[2]),\n",
    "    zip(orders['Order Number'], orders['Quantity'], orders['Price per Item'])\n",
    "))\n",
    "\n",
    "print(result)"
   ]
  },
  {
   "cell_type": "code",
   "execution_count": null,
   "id": "08fe834b-9288-4e11-be68-0c80a03ef9a3",
   "metadata": {},
   "outputs": [],
   "source": []
  }
 ],
 "metadata": {
  "kernelspec": {
   "display_name": "Python 3 (ipykernel)",
   "language": "python",
   "name": "python3"
  },
  "language_info": {
   "codemirror_mode": {
    "name": "ipython",
    "version": 3
   },
   "file_extension": ".py",
   "mimetype": "text/x-python",
   "name": "python",
   "nbconvert_exporter": "python",
   "pygments_lexer": "ipython3",
   "version": "3.12.7"
  }
 },
 "nbformat": 4,
 "nbformat_minor": 5
}
